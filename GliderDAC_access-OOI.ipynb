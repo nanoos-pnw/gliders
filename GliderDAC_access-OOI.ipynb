{
 "cells": [
  {
   "cell_type": "markdown",
   "metadata": {},
   "source": [
    "# Accessing OOI glider data from Glider DAC\n",
    "9/24,6/2019\n",
    "\n",
    "NANOOS, Emilio Mayorga  \n",
    "https://github.com/nanoos-pnw/gliders"
   ]
  },
  {
   "cell_type": "code",
   "execution_count": 1,
   "metadata": {},
   "outputs": [],
   "source": [
    "import warnings\n",
    "warnings.simplefilter('ignore') # filter some warning messages\n",
    "\n",
    "import datetime\n",
    "import numpy as np\n",
    "import pandas as pd\n",
    "import xarray as xr\n",
    "from erddapy import ERDDAP\n",
    "\n",
    "import matplotlib.pyplot as plt\n",
    "# import cartopy.crs as ccrs\n",
    "# from cartopy.mpl.gridliner import LONGITUDE_FORMATTER, LATITUDE_FORMATTER\n",
    "%matplotlib inline"
   ]
  },
  {
   "cell_type": "markdown",
   "metadata": {},
   "source": [
    "# Attempts with OPeNDAP"
   ]
  },
  {
   "cell_type": "code",
   "execution_count": 2,
   "metadata": {},
   "outputs": [],
   "source": [
    "# OOI\n",
    "tds_opendap_url = 'http://gliders.ioos.us/thredds/dodsC/deployments/OOI-CE/ce_319-20190125T2248-delayed/ce_319-20190125T2248-delayed.nc3.nc'\n",
    "erddap_opendap_url = 'https://gliders.ioos.us/erddap/tabledap/ce_319-20190125T2248-delayed'"
   ]
  },
  {
   "cell_type": "code",
   "execution_count": 3,
   "metadata": {},
   "outputs": [],
   "source": [
    "# NANOOS Trinidad Head\n",
    "tds_opendap_url = 'http://gliders.ioos.us/thredds/dodsC/deployments/mbari/UW646-20190409T0000/UW646-20190409T0000.nc3.nc'\n",
    "erddap_opendap_url = 'https://gliders.ioos.us/erddap/tabledap/UW646-20190409T0000'"
   ]
  },
  {
   "cell_type": "markdown",
   "metadata": {},
   "source": [
    "## Getting errors with `xr.open_dataset`\n",
    "\n",
    "- **OOI**\n",
    "    - thredds: `OSError: [Errno -45] NetCDF: Not a valid data type or _FillValue type mismatch: b'http://gliders.ioos.us/thredds/dodsC/deployments/OOI-CE/ce_319-20190125T2248-delayed/ce_319-20190125T2248-delayed.nc3.nc'`\n",
    "    - erddap: `IndexError: The indexing operation you are attempting to perform is not valid on netCDF4.Variable object. Try loading your data into memory first by calling .load().`\n",
    "- **NANOOS Trinidad**\n",
    "    - thredds: `OSError: [Errno -45] NetCDF: Not a valid data type or _FillValue type mismatch: b'http://gliders.ioos.us/thredds/dodsC/deployments/mbari/UW646-20190409T0000/UW646-20190409T0000.nc3.nc'`\n",
    "    - erddap: Success! But note that, at least for salinity, coordinate attributes don't match up with declared variables: `coordinates: lon lat depth time` vs `longitude` and `latitude`\n",
    "\n",
    "### pydap\n",
    "- Also tried with `engine='pydap'`, but got errors\n",
    "- https://github.com/pydap/pydap"
   ]
  },
  {
   "cell_type": "code",
   "execution_count": 4,
   "metadata": {},
   "outputs": [],
   "source": [
    "# ds = xr.open_dataset(erddap_opendap_url)\n",
    "#        tds_opendap_url, decode_cf=False)"
   ]
  },
  {
   "cell_type": "markdown",
   "metadata": {},
   "source": [
    "# Tests with erddapy (uses REST API rather than OPeNDAP?)"
   ]
  },
  {
   "cell_type": "code",
   "execution_count": 5,
   "metadata": {},
   "outputs": [],
   "source": [
    "# Glider DAC server endpoint\n",
    "server = 'https://data.ioos.us/gliders/erddap'\n",
    "protocol = 'tabledap'"
   ]
  },
  {
   "cell_type": "code",
   "execution_count": 6,
   "metadata": {},
   "outputs": [],
   "source": [
    "dataset_id = 'ce_319-20190125T2248-delayed'"
   ]
  },
  {
   "cell_type": "markdown",
   "metadata": {},
   "source": [
    "## Explore dataset metadata"
   ]
  },
  {
   "cell_type": "code",
   "execution_count": 7,
   "metadata": {},
   "outputs": [],
   "source": [
    "e_md = ERDDAP(server=server, protocol=protocol)"
   ]
  },
  {
   "cell_type": "code",
   "execution_count": 8,
   "metadata": {},
   "outputs": [],
   "source": [
    "info_url = e_md.get_info_url(dataset_id=dataset_id, response='csv')\n",
    "info = pd.read_csv(info_url)"
   ]
  },
  {
   "cell_type": "code",
   "execution_count": 9,
   "metadata": {},
   "outputs": [
    {
     "data": {
      "text/html": [
       "<div>\n",
       "<style scoped>\n",
       "    .dataframe tbody tr th:only-of-type {\n",
       "        vertical-align: middle;\n",
       "    }\n",
       "\n",
       "    .dataframe tbody tr th {\n",
       "        vertical-align: top;\n",
       "    }\n",
       "\n",
       "    .dataframe thead th {\n",
       "        text-align: right;\n",
       "    }\n",
       "</style>\n",
       "<table border=\"1\" class=\"dataframe\">\n",
       "  <thead>\n",
       "    <tr style=\"text-align: right;\">\n",
       "      <th></th>\n",
       "      <th>Row Type</th>\n",
       "      <th>Variable Name</th>\n",
       "      <th>Attribute Name</th>\n",
       "      <th>Data Type</th>\n",
       "      <th>Value</th>\n",
       "    </tr>\n",
       "  </thead>\n",
       "  <tbody>\n",
       "    <tr>\n",
       "      <th>0</th>\n",
       "      <td>attribute</td>\n",
       "      <td>NC_GLOBAL</td>\n",
       "      <td>_NCProperties</td>\n",
       "      <td>String</td>\n",
       "      <td>version=1|netcdflibversion=4.6.1|hdf5libversio...</td>\n",
       "    </tr>\n",
       "    <tr>\n",
       "      <th>1</th>\n",
       "      <td>attribute</td>\n",
       "      <td>NC_GLOBAL</td>\n",
       "      <td>acknowledgment</td>\n",
       "      <td>String</td>\n",
       "      <td>Funding provided by the National Science Found...</td>\n",
       "    </tr>\n",
       "    <tr>\n",
       "      <th>2</th>\n",
       "      <td>attribute</td>\n",
       "      <td>NC_GLOBAL</td>\n",
       "      <td>cdm_data_type</td>\n",
       "      <td>String</td>\n",
       "      <td>TrajectoryProfile</td>\n",
       "    </tr>\n",
       "    <tr>\n",
       "      <th>3</th>\n",
       "      <td>attribute</td>\n",
       "      <td>NC_GLOBAL</td>\n",
       "      <td>cdm_profile_variables</td>\n",
       "      <td>String</td>\n",
       "      <td>time_uv,lat_uv,lon_uv,u,v,profile_id,time,lati...</td>\n",
       "    </tr>\n",
       "    <tr>\n",
       "      <th>4</th>\n",
       "      <td>attribute</td>\n",
       "      <td>NC_GLOBAL</td>\n",
       "      <td>cdm_trajectory_variables</td>\n",
       "      <td>String</td>\n",
       "      <td>trajectory,wmo_id</td>\n",
       "    </tr>\n",
       "    <tr>\n",
       "      <th>5</th>\n",
       "      <td>attribute</td>\n",
       "      <td>NC_GLOBAL</td>\n",
       "      <td>comment</td>\n",
       "      <td>String</td>\n",
       "      <td>2019-01-25 Deployed on the Newport Hydrographi...</td>\n",
       "    </tr>\n",
       "    <tr>\n",
       "      <th>6</th>\n",
       "      <td>attribute</td>\n",
       "      <td>NC_GLOBAL</td>\n",
       "      <td>contributor_name</td>\n",
       "      <td>String</td>\n",
       "      <td>Edward Dever, Jonathan Fram, Stuart Pearce, Ch...</td>\n",
       "    </tr>\n",
       "    <tr>\n",
       "      <th>7</th>\n",
       "      <td>attribute</td>\n",
       "      <td>NC_GLOBAL</td>\n",
       "      <td>contributor_role</td>\n",
       "      <td>String</td>\n",
       "      <td>Endurance Array Principal Investigator/Project...</td>\n",
       "    </tr>\n",
       "    <tr>\n",
       "      <th>8</th>\n",
       "      <td>attribute</td>\n",
       "      <td>NC_GLOBAL</td>\n",
       "      <td>Conventions</td>\n",
       "      <td>String</td>\n",
       "      <td>Unidata Dataset Discovery v1.0, COARDS, CF-1.6</td>\n",
       "    </tr>\n",
       "    <tr>\n",
       "      <th>9</th>\n",
       "      <td>attribute</td>\n",
       "      <td>NC_GLOBAL</td>\n",
       "      <td>creator_email</td>\n",
       "      <td>String</td>\n",
       "      <td>spearce@ceoas.oregonstate.edu</td>\n",
       "    </tr>\n",
       "  </tbody>\n",
       "</table>\n",
       "</div>"
      ],
      "text/plain": [
       "    Row Type Variable Name            Attribute Name Data Type  \\\n",
       "0  attribute     NC_GLOBAL             _NCProperties    String   \n",
       "1  attribute     NC_GLOBAL            acknowledgment    String   \n",
       "2  attribute     NC_GLOBAL             cdm_data_type    String   \n",
       "3  attribute     NC_GLOBAL     cdm_profile_variables    String   \n",
       "4  attribute     NC_GLOBAL  cdm_trajectory_variables    String   \n",
       "5  attribute     NC_GLOBAL                   comment    String   \n",
       "6  attribute     NC_GLOBAL          contributor_name    String   \n",
       "7  attribute     NC_GLOBAL          contributor_role    String   \n",
       "8  attribute     NC_GLOBAL               Conventions    String   \n",
       "9  attribute     NC_GLOBAL             creator_email    String   \n",
       "\n",
       "                                               Value  \n",
       "0  version=1|netcdflibversion=4.6.1|hdf5libversio...  \n",
       "1  Funding provided by the National Science Found...  \n",
       "2                                  TrajectoryProfile  \n",
       "3  time_uv,lat_uv,lon_uv,u,v,profile_id,time,lati...  \n",
       "4                                  trajectory,wmo_id  \n",
       "5  2019-01-25 Deployed on the Newport Hydrographi...  \n",
       "6  Edward Dever, Jonathan Fram, Stuart Pearce, Ch...  \n",
       "7  Endurance Array Principal Investigator/Project...  \n",
       "8     Unidata Dataset Discovery v1.0, COARDS, CF-1.6  \n",
       "9                      spearce@ceoas.oregonstate.edu  "
      ]
     },
     "execution_count": 9,
     "metadata": {},
     "output_type": "execute_result"
    }
   ],
   "source": [
    "info.head(10)"
   ]
  },
  {
   "cell_type": "code",
   "execution_count": 10,
   "metadata": {},
   "outputs": [
    {
     "data": {
      "text/plain": [
       "Variable Name         Row Type \n",
       "CDOM                  attribute    17\n",
       "                      variable      1\n",
       "NC_GLOBAL             attribute    70\n",
       "PAR                   attribute    16\n",
       "                      variable      1\n",
       "backscatter           attribute    18\n",
       "                      variable      1\n",
       "chlorophyll           attribute    18\n",
       "                      variable      1\n",
       "conductivity          attribute    21\n",
       "                      variable      1\n",
       "conductivity_qc       attribute     7\n",
       "                      variable      1\n",
       "ctd_timestamp         attribute    15\n",
       "                      variable      1\n",
       "density               attribute    16\n",
       "                      variable      1\n",
       "density_qc            attribute     7\n",
       "                      variable      1\n",
       "depth                 attribute    25\n",
       "                      variable      1\n",
       "depth_qc              attribute     7\n",
       "                      variable      1\n",
       "dissolved_oxygen      attribute    17\n",
       "                      variable      1\n",
       "instrument_ctd        attribute    15\n",
       "                      variable      1\n",
       "lat_uv                attribute    15\n",
       "                      variable      1\n",
       "lat_uv_qc             attribute     7\n",
       "                                   ..\n",
       "radiation_wavelength  attribute     5\n",
       "                      variable      1\n",
       "salinity              attribute    16\n",
       "                      variable      1\n",
       "salinity_qc           attribute     7\n",
       "                      variable      1\n",
       "temperature           attribute    21\n",
       "                      variable      1\n",
       "temperature_qc        attribute     7\n",
       "                      variable      1\n",
       "time                  attribute    14\n",
       "                      variable      1\n",
       "time_qc               attribute     7\n",
       "                      variable      1\n",
       "time_uv               attribute    11\n",
       "                      variable      1\n",
       "time_uv_qc            attribute     7\n",
       "                      variable      1\n",
       "trajectory            attribute     5\n",
       "                      variable      1\n",
       "u                     attribute    17\n",
       "                      variable      1\n",
       "u_qc                  attribute     7\n",
       "                      variable      1\n",
       "v                     attribute    17\n",
       "                      variable      1\n",
       "v_qc                  attribute     7\n",
       "                      variable      1\n",
       "wmo_id                attribute     2\n",
       "                      variable      1\n",
       "Length: 95, dtype: int64"
      ]
     },
     "execution_count": 10,
     "metadata": {},
     "output_type": "execute_result"
    }
   ],
   "source": [
    "info.groupby(['Variable Name', 'Row Type']).size()"
   ]
  },
  {
   "cell_type": "markdown",
   "metadata": {},
   "source": [
    "## Extracting `cdm_profile_variables` and coordinate variables"
   ]
  },
  {
   "cell_type": "code",
   "execution_count": 11,
   "metadata": {},
   "outputs": [],
   "source": [
    "cdm_profile_variables = info.loc[\n",
    "    info['Attribute Name'] == 'cdm_profile_variables', 'Value'\n",
    "]"
   ]
  },
  {
   "cell_type": "code",
   "execution_count": 12,
   "metadata": {},
   "outputs": [
    {
     "data": {
      "text/plain": [
       "['time_uv',\n",
       " 'lat_uv',\n",
       " 'lon_uv',\n",
       " 'u',\n",
       " 'v',\n",
       " 'profile_id',\n",
       " 'time',\n",
       " 'latitude',\n",
       " 'longitude']"
      ]
     },
     "execution_count": 12,
     "metadata": {},
     "output_type": "execute_result"
    }
   ],
   "source": [
    "profile_variables = cdm_profile_variables.to_list()[0].split(',')\n",
    "profile_variables"
   ]
  },
  {
   "cell_type": "code",
   "execution_count": 13,
   "metadata": {},
   "outputs": [],
   "source": [
    "obs_coords_variables = e_md.get_var_by_attr(\n",
    "    dataset_id=dataset_id,\n",
    "    axis=lambda v: v in ['X', 'Y', 'Z', 'T'],\n",
    ")"
   ]
  },
  {
   "cell_type": "code",
   "execution_count": 14,
   "metadata": {},
   "outputs": [
    {
     "data": {
      "text/plain": [
       "['precise_lat',\n",
       " 'pressure',\n",
       " 'precise_lon',\n",
       " 'depth',\n",
       " 'time',\n",
       " 'longitude',\n",
       " 'precise_time',\n",
       " 'latitude',\n",
       " 'ctd_timestamp']"
      ]
     },
     "execution_count": 14,
     "metadata": {},
     "output_type": "execute_result"
    }
   ],
   "source": [
    "obs_coords_variables"
   ]
  },
  {
   "cell_type": "markdown",
   "metadata": {},
   "source": [
    "Add `profile_id` to the list of coordinate variables. It's not a coordinate variable proper, but it's key to being able to segment the glider data into profiles."
   ]
  },
  {
   "cell_type": "code",
   "execution_count": 15,
   "metadata": {},
   "outputs": [],
   "source": [
    "obs_coords_variables.append('profile_id')"
   ]
  },
  {
   "cell_type": "markdown",
   "metadata": {},
   "source": [
    "```python\n",
    "# For searching across datasets\n",
    "kw = {\n",
    "    \"min_time\": \"2017-01-05T00:00:00Z\",\n",
    "    \"min_time\": \"2019-06-12T00:00:00Z\",\n",
    "    \"min_lon\": -136,\n",
    "    \"max_lon\": -120,\n",
    "    \"min_lat\": 41.78,\n",
    "    \"max_lat\": 52.24,\n",
    "    \"standard_name\": \"sea_water_practical_salinity\",\n",
    "    \"cdm_data_type\": \"trajectory\",\n",
    "}\n",
    "\n",
    "# For constraining response from a single dataset\n",
    "e.constraints = {\n",
    "    \"time>=\": \"2018-08-05T00:00:00Z\",\n",
    "    \"time<=\": \"2019-06-12T00:00:00Z\",\n",
    "    \"longitude>=\": -133.75,\n",
    "    \"longitude<=\": -123.29,\n",
    "    \"latitude>=\": 41.78,\n",
    "    \"latitude<=\": 52.24,\n",
    "}\n",
    "```"
   ]
  },
  {
   "cell_type": "markdown",
   "metadata": {},
   "source": [
    "## Explore a dataset with a time constraint filter"
   ]
  },
  {
   "cell_type": "code",
   "execution_count": 16,
   "metadata": {},
   "outputs": [],
   "source": [
    "e_data = ERDDAP(server=server, protocol=protocol)"
   ]
  },
  {
   "cell_type": "code",
   "execution_count": 17,
   "metadata": {},
   "outputs": [],
   "source": [
    "# requested variables and constraints\n",
    "e_data.dataset_id = dataset_id\n",
    "# e_data.variables = obs_coords_variables\n",
    "e_data.constraints = {\"time>=\": \"2019-04-20T00:00:00Z\"}"
   ]
  },
  {
   "cell_type": "code",
   "execution_count": 18,
   "metadata": {},
   "outputs": [
    {
     "data": {
      "text/plain": [
       "{'server': 'https://data.ioos.us/gliders/erddap',\n",
       " 'protocol': 'tabledap',\n",
       " 'constraints': {'time>=': '2019-04-20T00:00:00Z'},\n",
       " 'dataset_id': 'ce_319-20190125T2248-delayed',\n",
       " 'params': None,\n",
       " 'requests_kwargs': {},\n",
       " 'response': 'html',\n",
       " 'variables': '',\n",
       " '_dataset_id': None,\n",
       " '_variables': {}}"
      ]
     },
     "execution_count": 18,
     "metadata": {},
     "output_type": "execute_result"
    }
   ],
   "source": [
    "e_data.__dict__"
   ]
  },
  {
   "cell_type": "markdown",
   "metadata": {},
   "source": [
    "### First query and explore with xarray, to examine all the metadata\n",
    "Take advantage of xarray access to the full structure of netcdf variables and attributes (both global and variable attributes)"
   ]
  },
  {
   "cell_type": "code",
   "execution_count": 19,
   "metadata": {},
   "outputs": [],
   "source": [
    "ds = e_data.to_xarray(decode_times=True)"
   ]
  },
  {
   "cell_type": "code",
   "execution_count": 20,
   "metadata": {},
   "outputs": [
    {
     "data": {
      "text/plain": [
       "<xarray.Dataset>\n",
       "Dimensions:               (row: 49336)\n",
       "Coordinates:\n",
       "    time_uv               (row) datetime64[ns] ...\n",
       "    lat_uv                (row) float64 ...\n",
       "    lon_uv                (row) float64 ...\n",
       "Dimensions without coordinates: row\n",
       "Data variables:\n",
       "    trajectory            (row) object ...\n",
       "    wmo_id                (row) object ...\n",
       "    profile_id            (row) float64 ...\n",
       "    time                  (row) datetime64[ns] ...\n",
       "    latitude              (row) float64 ...\n",
       "    longitude             (row) float64 ...\n",
       "    precise_time          (row) datetime64[ns] ...\n",
       "    depth                 (row) float32 ...\n",
       "    pressure              (row) float32 ...\n",
       "    temperature           (row) float32 ...\n",
       "    conductivity          (row) float32 ...\n",
       "    salinity              (row) float32 ...\n",
       "    density               (row) float32 ...\n",
       "    precise_lat           (row) float64 ...\n",
       "    precise_lon           (row) float64 ...\n",
       "    u                     (row) float64 ...\n",
       "    v                     (row) float64 ...\n",
       "    platform_meta         (row) float32 ...\n",
       "    instrument_ctd        (row) float32 ...\n",
       "    precise_lon_qc        (row) float32 ...\n",
       "    salinity_qc           (row) float32 ...\n",
       "    density_qc            (row) float32 ...\n",
       "    temperature_qc        (row) float32 ...\n",
       "    lat_uv_qc             (row) float32 ...\n",
       "    precise_time_qc       (row) float32 ...\n",
       "    longitude_qc          (row) float32 ...\n",
       "    pressure_qc           (row) float32 ...\n",
       "    time_uv_qc            (row) float32 ...\n",
       "    latitude_qc           (row) float32 ...\n",
       "    u_qc                  (row) float32 ...\n",
       "    v_qc                  (row) float32 ...\n",
       "    depth_qc              (row) float32 ...\n",
       "    time_qc               (row) float32 ...\n",
       "    lon_uv_qc             (row) float32 ...\n",
       "    precise_lat_qc        (row) float32 ...\n",
       "    conductivity_qc       (row) float32 ...\n",
       "    radiation_wavelength  (row) object ...\n",
       "    backscatter           (row) float64 ...\n",
       "    chlorophyll           (row) float64 ...\n",
       "    dissolved_oxygen      (row) float64 ...\n",
       "    PAR                   (row) float64 ...\n",
       "    ctd_timestamp         (row) datetime64[ns] ...\n",
       "    CDOM                  (row) float64 ...\n",
       "    oxygen_saturation     (row) float64 ...\n",
       "Attributes:\n",
       "    acknowledgment:                 Funding provided by the National Science ...\n",
       "    cdm_data_type:                  TrajectoryProfile\n",
       "    cdm_profile_variables:          time_uv,lat_uv,lon_uv,u,v,profile_id,time...\n",
       "    cdm_trajectory_variables:       trajectory,wmo_id\n",
       "    comment:                        2019-01-25 Deployed on the Newport Hydrog...\n",
       "    contributor_name:               Edward Dever, Jonathan Fram, Stuart Pearc...\n",
       "    contributor_role:               Endurance Array Principal Investigator/Pr...\n",
       "    Conventions:                    Unidata Dataset Discovery v1.0, COARDS, C...\n",
       "    creator_email:                  spearce@ceoas.oregonstate.edu\n",
       "    creator_institution:            OOI Coastal Endurance\n",
       "    creator_name:                   Stuart Pearce\n",
       "    creator_url:                    http://ceoas.oregonstate.edu/ooi/\n",
       "    date_created:                   2019-07-26T23:36:46Z\n",
       "    date_issued:                    2019-07-26T23:36:46Z\n",
       "    date_modified:                  2019-07-26T23:36:46Z\n",
       "    deployment_number:              00008\n",
       "    Easternmost_Easting:            -124.78183236940474\n",
       "    featureType:                    TrajectoryProfile\n",
       "    format_version:                 IOOS_Glider_NetCDF_v2.0.nc\n",
       "    geospatial_bounds:              POLYGON ((44.59936855771446 -124.79179879...\n",
       "    geospatial_lat_max:             44.711822146007535\n",
       "    geospatial_lat_min:             44.59420063275664\n",
       "    geospatial_lat_units:           degrees_north\n",
       "    geospatial_lon_max:             -124.78183236940474\n",
       "    geospatial_lon_min:             -125.04493311485453\n",
       "    geospatial_lon_units:           degrees_east\n",
       "    geospatial_verical_resolution:  0.14518642733763676\n",
       "    geospatial_vertical_max:        985.46924\n",
       "    geospatial_vertical_min:        -1.8747213\n",
       "    geospatial_vertical_positive:   down\n",
       "    geospatial_vertical_units:      m\n",
       "    history:                        2019-07-26T23:36:46Z: ce_319_20190421T023...\n",
       "    hydrographic_line:              Newport Hydrographic Deep\n",
       "    id:                             ce_319-20190125T2248\n",
       "    infoUrl:                        http://data.ioos.us/gliders/erddap/\n",
       "    institution:                    OOI Coastal Endurance\n",
       "    ioos_dac_checksum:              69fab53febfbe6327bcf97dcd756daf7\n",
       "    ioos_dac_completed:             True\n",
       "    keywords:                       AUVS > Autonomous Underwater Vehicles, Oc...\n",
       "    keywords_vocabulary:            GCMD Science Keywords\n",
       "    license:                        All OOI data including data from OOI core...\n",
       "    Metadata_Conventions:           Unidata Dataset Discovery v1.0, COARDS, C...\n",
       "    metadata_link:                  http://oceanobservatories.org/site/ce05moas/\n",
       "    naming_authority:               org.oceanobservatories\n",
       "    Northernmost_Northing:          44.711822146007535\n",
       "    platform_id:                    CE05MOAS-GL319\n",
       "    platform_type:                  Slocum Glider\n",
       "    processing_level:               Raw Slocum Glider data. A few L2a process...\n",
       "    program:                        Ocean Observatories Initiative\n",
       "    project:                        Coastal Endurance Array\n",
       "    publisher_email:                help@oceanobservatories.org\n",
       "    publisher_name:                 Ocean Observatories Initiative\n",
       "    publisher_url:                  http://oceanobservatories.org\n",
       "    raw_data_url:                   https://rawdata.oceanobservatories.org/fi...\n",
       "    references:                     http://oceanobservatories.org/\n",
       "    sea_name:                       Northeast Pacific\n",
       "    source:                         Observational data from a profiling glider\n",
       "    sourceUrl:                      (local files)\n",
       "    Southernmost_Northing:          44.59420063275664\n",
       "    standard_name_vocabulary:       CF Standard Name Table v27\n",
       "    subsetVariables:                trajectory,wmo_id,time_uv,lat_uv,lon_uv,u...\n",
       "    summary:                        The Endurance Array is a multi-scaled arr...\n",
       "    time_coverage_duration:         PT26M36.63372S\n",
       "    time_coverage_end:              2019-04-21T03:44:01Z\n",
       "    time_coverage_resolution:       PT01.113413S\n",
       "    time_coverage_start:            2019-04-20T01:17:21Z\n",
       "    title:                          ce_319-20190125T2248-delayed\n",
       "    uuid:                           444b9dcc-009f-4b6a-bc1e-5b3640bfac5f\n",
       "    Westernmost_Easting:            -125.04493311485453"
      ]
     },
     "execution_count": 20,
     "metadata": {},
     "output_type": "execute_result"
    }
   ],
   "source": [
    "ds"
   ]
  },
  {
   "cell_type": "markdown",
   "metadata": {},
   "source": [
    "Pull out only \"true\" data variables (observational, like salinity, temperature), excluding `_qc` variables as well. `ds.data_vars` is not strict enough (or maybe some of the coordinate variables are not properly defined in this file)."
   ]
  },
  {
   "cell_type": "code",
   "execution_count": 21,
   "metadata": {},
   "outputs": [
    {
     "data": {
      "text/plain": [
       "(44, 47)"
      ]
     },
     "execution_count": 21,
     "metadata": {},
     "output_type": "execute_result"
    }
   ],
   "source": [
    "len(ds.data_vars), len(ds.variables)"
   ]
  },
  {
   "cell_type": "markdown",
   "metadata": {},
   "source": [
    "Remove qc variables and these metadata variables: instrument_ctd, wmo_id, platform_meta. Maybe should remove trajectory, too. Note that `pressure` will be removed too b/c it's in `obs_coords_variables`"
   ]
  },
  {
   "cell_type": "code",
   "execution_count": 22,
   "metadata": {},
   "outputs": [],
   "source": [
    "obs_variables = [v for v in set(ds.data_vars).difference(set(obs_coords_variables))\n",
    "                 if not v.endswith('_qc') \n",
    "                 and v not in ('instrument_ctd', 'wmo_id', 'platform_meta')]"
   ]
  },
  {
   "cell_type": "code",
   "execution_count": 23,
   "metadata": {},
   "outputs": [
    {
     "data": {
      "text/plain": [
       "['u',\n",
       " 'conductivity',\n",
       " 'temperature',\n",
       " 'trajectory',\n",
       " 'CDOM',\n",
       " 'salinity',\n",
       " 'backscatter',\n",
       " 'dissolved_oxygen',\n",
       " 'radiation_wavelength',\n",
       " 'density',\n",
       " 'chlorophyll',\n",
       " 'PAR',\n",
       " 'v',\n",
       " 'oxygen_saturation']"
      ]
     },
     "execution_count": 23,
     "metadata": {},
     "output_type": "execute_result"
    }
   ],
   "source": [
    "obs_variables"
   ]
  },
  {
   "cell_type": "code",
   "execution_count": 24,
   "metadata": {},
   "outputs": [
    {
     "data": {
      "text/plain": [
       "<xarray.DataArray 'salinity' (row: 49336)>\n",
       "array([      nan,       nan,       nan, ...,       nan, 33.966694, 33.96678 ],\n",
       "      dtype=float32)\n",
       "Coordinates:\n",
       "    time_uv  (row) datetime64[ns] ...\n",
       "    lat_uv   (row) float64 ...\n",
       "    lon_uv   (row) float64 ...\n",
       "Dimensions without coordinates: row\n",
       "Attributes:\n",
       "    _ChunkSizes:            478\n",
       "    actual_range:           [31.854792 34.41189 ]\n",
       "    colorBarMaximum:        37.0\n",
       "    colorBarMinimum:        30.0\n",
       "    instrument:             instrument_ctd\n",
       "    ioos_category:          Salinity\n",
       "    long_name:              Sea Water Practical Salinity\n",
       "    observation_type:       calculated\n",
       "    OOI_data_level:         L2a\n",
       "    OOI_data_product_name:  PRACSAL\n",
       "    platform:               platform\n",
       "    standard_name:          sea_water_practical_salinity\n",
       "    units:                  1\n",
       "    valid_max:              40.0\n",
       "    valid_min:              0.0"
      ]
     },
     "execution_count": 24,
     "metadata": {},
     "output_type": "execute_result"
    }
   ],
   "source": [
    "ds.salinity"
   ]
  },
  {
   "cell_type": "code",
   "execution_count": 25,
   "metadata": {},
   "outputs": [
    {
     "data": {
      "text/plain": [
       "(49336,)"
      ]
     },
     "execution_count": 25,
     "metadata": {},
     "output_type": "execute_result"
    }
   ],
   "source": [
    "ds.salinity.shape"
   ]
  },
  {
   "cell_type": "code",
   "execution_count": 26,
   "metadata": {},
   "outputs": [
    {
     "data": {
      "text/plain": [
       "<xarray.DataArray 'chlorophyll' (row: 49336)>\n",
       "array([  nan, 0.469, 0.483, ...,   nan, 0.056,   nan])\n",
       "Coordinates:\n",
       "    time_uv  (row) datetime64[ns] ...\n",
       "    lat_uv   (row) float64 ...\n",
       "    lon_uv   (row) float64 ...\n",
       "Dimensions without coordinates: row\n",
       "Attributes:\n",
       "    _ChunkSizes:            478\n",
       "    actual_range:           [0.035 2.947]\n",
       "    bytes:                  4\n",
       "    comment:                Chlorophyll recalculated from signal due to calib...\n",
       "    instrument:             instrument_flbbcd\n",
       "    ioos_category:          Other\n",
       "    long_name:              Chlorophyll Concentration\n",
       "    observation_type:       measured\n",
       "    OOI_data_level:         L1a\n",
       "    OOI_data_product_name:  CHLAFLO\n",
       "    platform:               platform\n",
       "    resolution:             0.012\n",
       "    source_sensor:          sci_flbbcd_chlor_units\n",
       "    standard_name:          mass_concentration_of_chlorophyll_a_in_sea_water\n",
       "    units:                  ug l-1\n",
       "    valid_max:              50.0\n",
       "    valid_min:              0.0"
      ]
     },
     "execution_count": 26,
     "metadata": {},
     "output_type": "execute_result"
    }
   ],
   "source": [
    "ds.chlorophyll"
   ]
  },
  {
   "cell_type": "code",
   "execution_count": 27,
   "metadata": {},
   "outputs": [
    {
     "data": {
      "text/plain": [
       "<xarray.DataArray 'profile_id' (row: 49336)>\n",
       "array([797., 797., 797., ..., 815., 815., 815.])\n",
       "Coordinates:\n",
       "    time_uv  (row) datetime64[ns] ...\n",
       "    lat_uv   (row) float64 ...\n",
       "    lon_uv   (row) float64 ...\n",
       "Dimensions without coordinates: row\n",
       "Attributes:\n",
       "    actual_range:         [797 815]\n",
       "    ancillary_variables:  profile_time\n",
       "    cf_role:              profile_id\n",
       "    comment:              Sequential profile number within the trajectory. Th...\n",
       "    ioos_category:        Identifier\n",
       "    long_name:            Profile ID\n",
       "    valid_max:            2147483647\n",
       "    valid_min:            1"
      ]
     },
     "execution_count": 27,
     "metadata": {},
     "output_type": "execute_result"
    }
   ],
   "source": [
    "ds.profile_id"
   ]
  },
  {
   "cell_type": "code",
   "execution_count": 28,
   "metadata": {},
   "outputs": [
    {
     "data": {
      "text/plain": [
       "{797.0,\n",
       " 798.0,\n",
       " 799.0,\n",
       " 800.0,\n",
       " 801.0,\n",
       " 802.0,\n",
       " 803.0,\n",
       " 804.0,\n",
       " 805.0,\n",
       " 806.0,\n",
       " 807.0,\n",
       " 808.0,\n",
       " 809.0,\n",
       " 810.0,\n",
       " 811.0,\n",
       " 812.0,\n",
       " 813.0,\n",
       " 814.0,\n",
       " 815.0}"
      ]
     },
     "execution_count": 28,
     "metadata": {},
     "output_type": "execute_result"
    }
   ],
   "source": [
    "set(ds.profile_id.values)"
   ]
  },
  {
   "cell_type": "code",
   "execution_count": 29,
   "metadata": {},
   "outputs": [
    {
     "data": {
      "text/plain": [
       "['precise_lat',\n",
       " 'pressure',\n",
       " 'precise_lon',\n",
       " 'depth',\n",
       " 'time',\n",
       " 'longitude',\n",
       " 'precise_time',\n",
       " 'latitude',\n",
       " 'ctd_timestamp',\n",
       " 'profile_id']"
      ]
     },
     "execution_count": 29,
     "metadata": {},
     "output_type": "execute_result"
    }
   ],
   "source": [
    "obs_coords_variables"
   ]
  },
  {
   "cell_type": "markdown",
   "metadata": {},
   "source": [
    "### Now we'll request the data transformed into a Pandas dataframe\n",
    "Bring in only the variables we're interested in. For access to metadata use the xarray dataset we created, above."
   ]
  },
  {
   "cell_type": "code",
   "execution_count": 30,
   "metadata": {},
   "outputs": [],
   "source": [
    "e_data.variables = obs_coords_variables + ['salinity', 'temperature']"
   ]
  },
  {
   "cell_type": "code",
   "execution_count": 31,
   "metadata": {},
   "outputs": [
    {
     "data": {
      "text/plain": [
       "{'server': 'https://data.ioos.us/gliders/erddap',\n",
       " 'protocol': 'tabledap',\n",
       " 'constraints': {'time>=': '2019-04-20T00:00:00Z'},\n",
       " 'dataset_id': 'ce_319-20190125T2248-delayed',\n",
       " 'params': None,\n",
       " 'requests_kwargs': {},\n",
       " 'response': 'html',\n",
       " 'variables': ['precise_lat',\n",
       "  'pressure',\n",
       "  'precise_lon',\n",
       "  'depth',\n",
       "  'time',\n",
       "  'longitude',\n",
       "  'precise_time',\n",
       "  'latitude',\n",
       "  'ctd_timestamp',\n",
       "  'profile_id',\n",
       "  'salinity',\n",
       "  'temperature'],\n",
       " '_dataset_id': None,\n",
       " '_variables': {}}"
      ]
     },
     "execution_count": 31,
     "metadata": {},
     "output_type": "execute_result"
    }
   ],
   "source": [
    "e_data.__dict__"
   ]
  },
  {
   "cell_type": "code",
   "execution_count": 32,
   "metadata": {},
   "outputs": [],
   "source": [
    "df = e_data.to_pandas(\n",
    "    index_col='time (UTC)',  # or use precise_time?\n",
    "    parse_dates=True,\n",
    ").dropna()"
   ]
  },
  {
   "cell_type": "code",
   "execution_count": 33,
   "metadata": {},
   "outputs": [
    {
     "data": {
      "text/html": [
       "<div>\n",
       "<style scoped>\n",
       "    .dataframe tbody tr th:only-of-type {\n",
       "        vertical-align: middle;\n",
       "    }\n",
       "\n",
       "    .dataframe tbody tr th {\n",
       "        vertical-align: top;\n",
       "    }\n",
       "\n",
       "    .dataframe thead th {\n",
       "        text-align: right;\n",
       "    }\n",
       "</style>\n",
       "<table border=\"1\" class=\"dataframe\">\n",
       "  <thead>\n",
       "    <tr style=\"text-align: right;\">\n",
       "      <th></th>\n",
       "      <th>precise_lat (degree_north)</th>\n",
       "      <th>pressure (dbar)</th>\n",
       "      <th>precise_lon (degree_east)</th>\n",
       "      <th>depth (m)</th>\n",
       "      <th>longitude (degrees_east)</th>\n",
       "      <th>precise_time (UTC)</th>\n",
       "      <th>latitude (degrees_north)</th>\n",
       "      <th>ctd_timestamp (UTC)</th>\n",
       "      <th>profile_id</th>\n",
       "      <th>salinity (1)</th>\n",
       "      <th>temperature (Celsius)</th>\n",
       "    </tr>\n",
       "    <tr>\n",
       "      <th>time (UTC)</th>\n",
       "      <th></th>\n",
       "      <th></th>\n",
       "      <th></th>\n",
       "      <th></th>\n",
       "      <th></th>\n",
       "      <th></th>\n",
       "      <th></th>\n",
       "      <th></th>\n",
       "      <th></th>\n",
       "      <th></th>\n",
       "      <th></th>\n",
       "    </tr>\n",
       "  </thead>\n",
       "  <tbody>\n",
       "    <tr>\n",
       "      <th>2019-04-20 01:17:21+00:00</th>\n",
       "      <td>44.713960</td>\n",
       "      <td>-1.76</td>\n",
       "      <td>-125.059905</td>\n",
       "      <td>-1.745770</td>\n",
       "      <td>-125.044933</td>\n",
       "      <td>2019-04-20T00:11:24Z</td>\n",
       "      <td>44.711822</td>\n",
       "      <td>2019-04-20T00:11:23Z</td>\n",
       "      <td>797</td>\n",
       "      <td>32.407670</td>\n",
       "      <td>11.3290</td>\n",
       "    </tr>\n",
       "    <tr>\n",
       "      <th>2019-04-20 01:17:21+00:00</th>\n",
       "      <td>44.713955</td>\n",
       "      <td>-1.79</td>\n",
       "      <td>-125.059905</td>\n",
       "      <td>-1.775527</td>\n",
       "      <td>-125.044933</td>\n",
       "      <td>2019-04-20T00:11:26Z</td>\n",
       "      <td>44.711822</td>\n",
       "      <td>2019-04-20T00:11:25Z</td>\n",
       "      <td>797</td>\n",
       "      <td>32.408794</td>\n",
       "      <td>11.3236</td>\n",
       "    </tr>\n",
       "    <tr>\n",
       "      <th>2019-04-20 01:17:21+00:00</th>\n",
       "      <td>44.713949</td>\n",
       "      <td>-1.86</td>\n",
       "      <td>-125.059917</td>\n",
       "      <td>-1.844962</td>\n",
       "      <td>-125.044933</td>\n",
       "      <td>2019-04-20T00:11:28Z</td>\n",
       "      <td>44.711822</td>\n",
       "      <td>2019-04-20T00:11:27Z</td>\n",
       "      <td>797</td>\n",
       "      <td>32.410355</td>\n",
       "      <td>11.3213</td>\n",
       "    </tr>\n",
       "    <tr>\n",
       "      <th>2019-04-20 01:17:21+00:00</th>\n",
       "      <td>44.713942</td>\n",
       "      <td>-1.83</td>\n",
       "      <td>-125.059918</td>\n",
       "      <td>-1.815204</td>\n",
       "      <td>-125.044933</td>\n",
       "      <td>2019-04-20T00:11:30Z</td>\n",
       "      <td>44.711822</td>\n",
       "      <td>2019-04-20T00:11:29Z</td>\n",
       "      <td>797</td>\n",
       "      <td>32.409500</td>\n",
       "      <td>11.3217</td>\n",
       "    </tr>\n",
       "    <tr>\n",
       "      <th>2019-04-20 01:17:21+00:00</th>\n",
       "      <td>44.713939</td>\n",
       "      <td>-1.74</td>\n",
       "      <td>-125.059915</td>\n",
       "      <td>-1.725931</td>\n",
       "      <td>-125.044933</td>\n",
       "      <td>2019-04-20T00:11:31Z</td>\n",
       "      <td>44.711822</td>\n",
       "      <td>2019-04-20T00:11:31Z</td>\n",
       "      <td>797</td>\n",
       "      <td>32.409695</td>\n",
       "      <td>11.3211</td>\n",
       "    </tr>\n",
       "  </tbody>\n",
       "</table>\n",
       "</div>"
      ],
      "text/plain": [
       "                           precise_lat (degree_north)  pressure (dbar)  \\\n",
       "time (UTC)                                                               \n",
       "2019-04-20 01:17:21+00:00                   44.713960            -1.76   \n",
       "2019-04-20 01:17:21+00:00                   44.713955            -1.79   \n",
       "2019-04-20 01:17:21+00:00                   44.713949            -1.86   \n",
       "2019-04-20 01:17:21+00:00                   44.713942            -1.83   \n",
       "2019-04-20 01:17:21+00:00                   44.713939            -1.74   \n",
       "\n",
       "                           precise_lon (degree_east)  depth (m)  \\\n",
       "time (UTC)                                                        \n",
       "2019-04-20 01:17:21+00:00                -125.059905  -1.745770   \n",
       "2019-04-20 01:17:21+00:00                -125.059905  -1.775527   \n",
       "2019-04-20 01:17:21+00:00                -125.059917  -1.844962   \n",
       "2019-04-20 01:17:21+00:00                -125.059918  -1.815204   \n",
       "2019-04-20 01:17:21+00:00                -125.059915  -1.725931   \n",
       "\n",
       "                           longitude (degrees_east)    precise_time (UTC)  \\\n",
       "time (UTC)                                                                  \n",
       "2019-04-20 01:17:21+00:00               -125.044933  2019-04-20T00:11:24Z   \n",
       "2019-04-20 01:17:21+00:00               -125.044933  2019-04-20T00:11:26Z   \n",
       "2019-04-20 01:17:21+00:00               -125.044933  2019-04-20T00:11:28Z   \n",
       "2019-04-20 01:17:21+00:00               -125.044933  2019-04-20T00:11:30Z   \n",
       "2019-04-20 01:17:21+00:00               -125.044933  2019-04-20T00:11:31Z   \n",
       "\n",
       "                           latitude (degrees_north)   ctd_timestamp (UTC)  \\\n",
       "time (UTC)                                                                  \n",
       "2019-04-20 01:17:21+00:00                 44.711822  2019-04-20T00:11:23Z   \n",
       "2019-04-20 01:17:21+00:00                 44.711822  2019-04-20T00:11:25Z   \n",
       "2019-04-20 01:17:21+00:00                 44.711822  2019-04-20T00:11:27Z   \n",
       "2019-04-20 01:17:21+00:00                 44.711822  2019-04-20T00:11:29Z   \n",
       "2019-04-20 01:17:21+00:00                 44.711822  2019-04-20T00:11:31Z   \n",
       "\n",
       "                           profile_id  salinity (1)  temperature (Celsius)  \n",
       "time (UTC)                                                                  \n",
       "2019-04-20 01:17:21+00:00         797     32.407670                11.3290  \n",
       "2019-04-20 01:17:21+00:00         797     32.408794                11.3236  \n",
       "2019-04-20 01:17:21+00:00         797     32.410355                11.3213  \n",
       "2019-04-20 01:17:21+00:00         797     32.409500                11.3217  \n",
       "2019-04-20 01:17:21+00:00         797     32.409695                11.3211  "
      ]
     },
     "execution_count": 33,
     "metadata": {},
     "output_type": "execute_result"
    }
   ],
   "source": [
    "df.head()"
   ]
  },
  {
   "cell_type": "code",
   "execution_count": 34,
   "metadata": {},
   "outputs": [
    {
     "data": {
      "text/html": [
       "<div>\n",
       "<style scoped>\n",
       "    .dataframe tbody tr th:only-of-type {\n",
       "        vertical-align: middle;\n",
       "    }\n",
       "\n",
       "    .dataframe tbody tr th {\n",
       "        vertical-align: top;\n",
       "    }\n",
       "\n",
       "    .dataframe thead th {\n",
       "        text-align: right;\n",
       "    }\n",
       "</style>\n",
       "<table border=\"1\" class=\"dataframe\">\n",
       "  <thead>\n",
       "    <tr style=\"text-align: right;\">\n",
       "      <th></th>\n",
       "      <th>precise_lat (degree_north)</th>\n",
       "      <th>pressure (dbar)</th>\n",
       "      <th>precise_lon (degree_east)</th>\n",
       "      <th>depth (m)</th>\n",
       "      <th>longitude (degrees_east)</th>\n",
       "      <th>precise_time (UTC)</th>\n",
       "      <th>latitude (degrees_north)</th>\n",
       "      <th>ctd_timestamp (UTC)</th>\n",
       "      <th>profile_id</th>\n",
       "      <th>salinity (1)</th>\n",
       "      <th>temperature (Celsius)</th>\n",
       "    </tr>\n",
       "    <tr>\n",
       "      <th>time (UTC)</th>\n",
       "      <th></th>\n",
       "      <th></th>\n",
       "      <th></th>\n",
       "      <th></th>\n",
       "      <th></th>\n",
       "      <th></th>\n",
       "      <th></th>\n",
       "      <th></th>\n",
       "      <th></th>\n",
       "      <th></th>\n",
       "      <th></th>\n",
       "    </tr>\n",
       "  </thead>\n",
       "  <tbody>\n",
       "    <tr>\n",
       "      <th>2019-04-21 03:44:01+00:00</th>\n",
       "      <td>44.592754</td>\n",
       "      <td>234.27</td>\n",
       "      <td>-124.780057</td>\n",
       "      <td>232.24554</td>\n",
       "      <td>-124.781832</td>\n",
       "      <td>2019-04-21T03:58:35Z</td>\n",
       "      <td>44.594201</td>\n",
       "      <td>2019-04-21T03:58:34Z</td>\n",
       "      <td>815</td>\n",
       "      <td>33.966870</td>\n",
       "      <td>7.3416</td>\n",
       "    </tr>\n",
       "    <tr>\n",
       "      <th>2019-04-21 03:44:01+00:00</th>\n",
       "      <td>44.592750</td>\n",
       "      <td>234.55</td>\n",
       "      <td>-124.780053</td>\n",
       "      <td>232.52296</td>\n",
       "      <td>-124.781832</td>\n",
       "      <td>2019-04-21T03:58:37Z</td>\n",
       "      <td>44.594201</td>\n",
       "      <td>2019-04-21T03:58:36Z</td>\n",
       "      <td>815</td>\n",
       "      <td>33.967060</td>\n",
       "      <td>7.3406</td>\n",
       "    </tr>\n",
       "    <tr>\n",
       "      <th>2019-04-21 03:44:01+00:00</th>\n",
       "      <td>44.592746</td>\n",
       "      <td>234.81</td>\n",
       "      <td>-124.780048</td>\n",
       "      <td>232.78058</td>\n",
       "      <td>-124.781832</td>\n",
       "      <td>2019-04-21T03:58:39Z</td>\n",
       "      <td>44.594201</td>\n",
       "      <td>2019-04-21T03:58:38Z</td>\n",
       "      <td>815</td>\n",
       "      <td>33.967808</td>\n",
       "      <td>7.3396</td>\n",
       "    </tr>\n",
       "    <tr>\n",
       "      <th>2019-04-21 03:44:01+00:00</th>\n",
       "      <td>44.592742</td>\n",
       "      <td>235.05</td>\n",
       "      <td>-124.780044</td>\n",
       "      <td>233.01837</td>\n",
       "      <td>-124.781832</td>\n",
       "      <td>2019-04-21T03:58:41Z</td>\n",
       "      <td>44.594201</td>\n",
       "      <td>2019-04-21T03:58:41Z</td>\n",
       "      <td>815</td>\n",
       "      <td>33.966694</td>\n",
       "      <td>7.3394</td>\n",
       "    </tr>\n",
       "    <tr>\n",
       "      <th>2019-04-21 03:44:01+00:00</th>\n",
       "      <td>44.592739</td>\n",
       "      <td>235.31</td>\n",
       "      <td>-124.780039</td>\n",
       "      <td>233.27597</td>\n",
       "      <td>-124.781832</td>\n",
       "      <td>2019-04-21T03:58:43Z</td>\n",
       "      <td>44.594201</td>\n",
       "      <td>2019-04-21T03:58:43Z</td>\n",
       "      <td>815</td>\n",
       "      <td>33.966780</td>\n",
       "      <td>7.3353</td>\n",
       "    </tr>\n",
       "  </tbody>\n",
       "</table>\n",
       "</div>"
      ],
      "text/plain": [
       "                           precise_lat (degree_north)  pressure (dbar)  \\\n",
       "time (UTC)                                                               \n",
       "2019-04-21 03:44:01+00:00                   44.592754           234.27   \n",
       "2019-04-21 03:44:01+00:00                   44.592750           234.55   \n",
       "2019-04-21 03:44:01+00:00                   44.592746           234.81   \n",
       "2019-04-21 03:44:01+00:00                   44.592742           235.05   \n",
       "2019-04-21 03:44:01+00:00                   44.592739           235.31   \n",
       "\n",
       "                           precise_lon (degree_east)  depth (m)  \\\n",
       "time (UTC)                                                        \n",
       "2019-04-21 03:44:01+00:00                -124.780057  232.24554   \n",
       "2019-04-21 03:44:01+00:00                -124.780053  232.52296   \n",
       "2019-04-21 03:44:01+00:00                -124.780048  232.78058   \n",
       "2019-04-21 03:44:01+00:00                -124.780044  233.01837   \n",
       "2019-04-21 03:44:01+00:00                -124.780039  233.27597   \n",
       "\n",
       "                           longitude (degrees_east)    precise_time (UTC)  \\\n",
       "time (UTC)                                                                  \n",
       "2019-04-21 03:44:01+00:00               -124.781832  2019-04-21T03:58:35Z   \n",
       "2019-04-21 03:44:01+00:00               -124.781832  2019-04-21T03:58:37Z   \n",
       "2019-04-21 03:44:01+00:00               -124.781832  2019-04-21T03:58:39Z   \n",
       "2019-04-21 03:44:01+00:00               -124.781832  2019-04-21T03:58:41Z   \n",
       "2019-04-21 03:44:01+00:00               -124.781832  2019-04-21T03:58:43Z   \n",
       "\n",
       "                           latitude (degrees_north)   ctd_timestamp (UTC)  \\\n",
       "time (UTC)                                                                  \n",
       "2019-04-21 03:44:01+00:00                 44.594201  2019-04-21T03:58:34Z   \n",
       "2019-04-21 03:44:01+00:00                 44.594201  2019-04-21T03:58:36Z   \n",
       "2019-04-21 03:44:01+00:00                 44.594201  2019-04-21T03:58:38Z   \n",
       "2019-04-21 03:44:01+00:00                 44.594201  2019-04-21T03:58:41Z   \n",
       "2019-04-21 03:44:01+00:00                 44.594201  2019-04-21T03:58:43Z   \n",
       "\n",
       "                           profile_id  salinity (1)  temperature (Celsius)  \n",
       "time (UTC)                                                                  \n",
       "2019-04-21 03:44:01+00:00         815     33.966870                 7.3416  \n",
       "2019-04-21 03:44:01+00:00         815     33.967060                 7.3406  \n",
       "2019-04-21 03:44:01+00:00         815     33.967808                 7.3396  \n",
       "2019-04-21 03:44:01+00:00         815     33.966694                 7.3394  \n",
       "2019-04-21 03:44:01+00:00         815     33.966780                 7.3353  "
      ]
     },
     "execution_count": 34,
     "metadata": {},
     "output_type": "execute_result"
    }
   ],
   "source": [
    "df.tail()"
   ]
  },
  {
   "cell_type": "code",
   "execution_count": null,
   "metadata": {},
   "outputs": [],
   "source": []
  }
 ],
 "metadata": {
  "kernelspec": {
   "display_name": "Python [conda env:OHW19]",
   "language": "python",
   "name": "conda-env-OHW19-py"
  },
  "language_info": {
   "codemirror_mode": {
    "name": "ipython",
    "version": 3
   },
   "file_extension": ".py",
   "mimetype": "text/x-python",
   "name": "python",
   "nbconvert_exporter": "python",
   "pygments_lexer": "ipython3",
   "version": "3.7.3"
  }
 },
 "nbformat": 4,
 "nbformat_minor": 4
}
